{
 "cells": [
  {
   "cell_type": "code",
   "execution_count": 2,
   "id": "cfeee09e-85d3-4a5f-b421-87e5dafe0799",
   "metadata": {},
   "outputs": [],
   "source": [
    "# list() constructor\n",
    "my_list = list([1, 2, 3, 4, 5])\n",
    "\n",
    "# tuple() constructor\n",
    "my_tuple = tuple((1, 2, 3, 4, 5))\n",
    "\n",
    "# dict() constructor\n",
    "my_dict = dict({\"name\": \"Alice\", \"age\": 30, \"city\": \"New York\"})\n",
    "\n",
    "# set() constructor\n",
    "my_set = set([1, 2, 3, 4, 5, 5, 3])\n",
    "\n",
    "# Printing the created objects\n",
    "print(\"List:\", my_list)\n",
    "print(\"Tuple:\", my_tuple)\n",
    "print(\"Dictionary:\", my_dict)\n",
    "print(\"Set:\", my_set)\n"
   ]
  },
  {
   "cell_type": "markdown",
   "id": "7a8187b1-e76d-4334-84e1-0545e0b7f93a",
   "metadata": {},
   "source": [
    "### Problem: Digital School Library\n",
    "\n",
    "**Problem Description:**\n",
    "\n",
    "Develop a simple Python program for a digital school library system. This system will allow users to interact with a catalogue of books, manage user information, and handle book check-outs. Users can add books, search for books, check-out books, return books, and view user accounts.\n",
    "\n",
    "**Features:**\n",
    "\n",
    "1. **Variables, Input, and Output**:\n",
    "   - Use variables to store data like book titles and user names.\n",
    "   - Use input/output operations to interact with the user through the console.\n",
    "\n",
    "2. **Conditional Statements (`if/elif/else`)**:\n",
    "   - Implement condition checks for user inputs, book availability, and user registration.\n",
    "\n",
    "3. **Loops**:\n",
    "   - Use loops to allow the program to perform actions repeatedly, such as showing the menu until the user decides to exit.\n",
    "\n",
    "4. **Lists**:\n",
    "   - Store multiple entries of books and user data.\n",
    "\n",
    "5. **Dictionaries**:\n",
    "   - Use dictionaries to manage user information and book details including availability.\n",
    "\n",
    "6. **Tuples**:\n",
    "   - Use tuples to store immutable data like book IDs or user IDs which should not change once created.\n",
    "\n",
    "7. **Sets**:\n",
    "   - Use sets to keep track of book genres without duplicates.\n",
    "\n",
    "**Sample Code:**\n",
    "\n",
    "```python\n",
    "# Library Data\n",
    "books = [{\"id\": 1, \"title\": \"Python Basics\", \"author\": \"John Doe\", \"available\": True},\n",
    "         {\"id\": 2, \"title\": \"Advanced Python\", \"author\": \"Jane Smith\", \"available\": True}]\n",
    "users = {\"admin\": {\"password\": \"1234\", \"checked_out\": []}}\n",
    "genres = {\"Programming\", \"Fiction\", \"Non-fiction\"}\n",
    "\n",
    "# Helper Functions\n",
    "def display_books():\n",
    "    print(\"\\nAvailable Books:\")\n",
    "    for book in books:\n",
    "        if book[\"available\"]:\n",
    "            print(f\"{book['id']} - {book['title']} by {book['author']}\")\n",
    "\n",
    "def check_out_book(user):\n",
    "    display_books()\n",
    "    book_id = int(input(\"Enter the book ID to check out: \"))\n",
    "    for book in books:\n",
    "        if book[\"id\"] == book_id and book[\"available\"]:\n",
    "            book[\"available\"] = False\n",
    "            users[user][\"checked_out\"].append(book[\"title\"])\n",
    "            print(\"Book checked out successfully!\")\n",
    "            return\n",
    "    print(\"Book is not available.\")\n",
    "\n",
    "def return_book(user):\n",
    "    if users[user][\"checked_out\"]:\n",
    "        print(\"Checked out books:\", users[user][\"checked_out\"])\n",
    "        title = input(\"Enter the book title to return: \")\n",
    "        for book in books:\n",
    "            if book[\"title\"] == title:\n",
    "                book[\"available\"] = True\n",
    "                users[user][\"checked_out\"].remove(title)\n",
    "                print(\"Book returned successfully!\")\n",
    "                return\n",
    "        print(\"Book not found.\")\n",
    "    else:\n",
    "        print(\"No books to return.\")\n",
    "\n",
    "def main_menu():\n",
    "    user = input(\"Enter username: \")\n",
    "    if user not in users:\n",
    "        print(\"User not found. Please contact the admin.\")\n",
    "        return\n",
    "    password = input(\"Enter password: \")\n",
    "    if users[user][\"password\"] != password:\n",
    "        print(\"Invalid password!\")\n",
    "        return\n",
    "\n",
    "    while True:\n",
    "        print(\"\\n1. Check Out Book\")\n",
    "        print(\"2. Return Book\")\n",
    "        print(\"3. Exit\")\n",
    "        choice = input(\"Enter choice: \")\n",
    "        if choice == \"1\":\n",
    "            check_out_book(user)\n",
    "        elif choice == \"2\":\n",
    "            return_book(user)\n",
    "        elif choice == \"3\":\n",
    "            print(\"Thank you for using the library system.\")\n",
    "            break\n",
    "        else:\n",
    "            print(\"Invalid choice, please choose again.\")\n",
    "\n",
    "# Run the program\n",
    "if __name__ == \"__main__\":\n",
    "    main_menu()\n",
    "```"
   ]
  },
  {
   "cell_type": "code",
   "execution_count": null,
   "id": "8282cc60-96a0-42bd-bda5-21b93b854ba0",
   "metadata": {},
   "outputs": [
    {
     "name": "stdin",
     "output_type": "stream",
     "text": [
      "Enter username:  admin\n",
      "Enter password:  1234\n"
     ]
    },
    {
     "name": "stdout",
     "output_type": "stream",
     "text": [
      "\n",
      "1. Check Out Book\n",
      "2. Return Book\n",
      "3. Exit\n"
     ]
    },
    {
     "name": "stdin",
     "output_type": "stream",
     "text": [
      "Enter choice:  1\n"
     ]
    },
    {
     "name": "stdout",
     "output_type": "stream",
     "text": [
      "\n",
      "Available Books:\n",
      "1 - Python Basics by John Doe\n",
      "2 - Advanced Python by Jane Smith\n"
     ]
    },
    {
     "name": "stdin",
     "output_type": "stream",
     "text": [
      "Enter the book ID to check out:  1\n"
     ]
    },
    {
     "name": "stdout",
     "output_type": "stream",
     "text": [
      "Book checked out successfully!\n",
      "\n",
      "1. Check Out Book\n",
      "2. Return Book\n",
      "3. Exit\n"
     ]
    },
    {
     "name": "stdin",
     "output_type": "stream",
     "text": [
      "Enter choice:  2\n"
     ]
    },
    {
     "name": "stdout",
     "output_type": "stream",
     "text": [
      "Checked out books: ['Python Basics']\n"
     ]
    },
    {
     "name": "stdin",
     "output_type": "stream",
     "text": [
      "Enter the book title to return:  Python Basics\n"
     ]
    },
    {
     "name": "stdout",
     "output_type": "stream",
     "text": [
      "Book returned successfully!\n",
      "\n",
      "1. Check Out Book\n",
      "2. Return Book\n",
      "3. Exit\n"
     ]
    }
   ],
   "source": [
    "# Library Data\n",
    "books = [{\"id\": 1, \"title\": \"Python Basics\", \"author\": \"John Doe\", \"available\": True},\n",
    "         {\"id\": 2, \"title\": \"Advanced Python\", \"author\": \"Jane Smith\", \"available\": True}]\n",
    "\n",
    "users = {\"admin\": {\"password\": \"1234\", \"checked_out\": []}}\n",
    "\n",
    "genres = {\"Programming\", \"Fiction\", \"Non-fiction\"}\n",
    "\n",
    "# Helper Functions\n",
    "def display_books():\n",
    "    print(\"\\nAvailable Books:\")\n",
    "    for book in books:\n",
    "        if book[\"available\"]:\n",
    "            print(f\"{book['id']} - {book['title']} by {book['author']}\")\n",
    "\n",
    "def check_out_book(user):\n",
    "    display_books()\n",
    "    book_id = int(input(\"Enter the book ID to check out: \"))\n",
    "    for book in books:\n",
    "        if book[\"id\"] == book_id and book[\"available\"]:\n",
    "            book[\"available\"] = False\n",
    "            users[user][\"checked_out\"].append(book[\"title\"])\n",
    "            print(\"Book checked out successfully!\")\n",
    "            return\n",
    "    print(\"Book is not available.\")\n",
    "\n",
    "def return_book(user):\n",
    "    if users[user][\"checked_out\"]:\n",
    "        print(\"Checked out books:\", users[user][\"checked_out\"])\n",
    "        title = input(\"Enter the book title to return: \")\n",
    "        for book in books:\n",
    "            if book[\"title\"] == title:\n",
    "                book[\"available\"] = True\n",
    "                users[user][\"checked_out\"].remove(title)\n",
    "                print(\"Book returned successfully!\")\n",
    "                return\n",
    "        print(\"Book not found.\")\n",
    "    else:\n",
    "        print(\"No books to return.\")\n",
    "\n",
    "def main_menu():\n",
    "    user = input(\"Enter username: \")\n",
    "    if user not in users:\n",
    "        print(\"User not found. Please contact the admin.\")\n",
    "        return\n",
    "    password = input(\"Enter password: \")\n",
    "    if users[user][\"password\"] != password:\n",
    "        print(\"Invalid password!\")\n",
    "        return\n",
    "\n",
    "    while True:\n",
    "        print(\"\\n1. Check Out Book\")\n",
    "        print(\"2. Return Book\")\n",
    "        print(\"3. Exit\")\n",
    "        choice = input(\"Enter choice: \")\n",
    "        if choice == \"1\":\n",
    "            check_out_book(user)\n",
    "        elif choice == \"2\":\n",
    "            return_book(user)\n",
    "        elif choice == \"3\":\n",
    "            print(\"Thank you for using the library system.\")\n",
    "            break\n",
    "        else:\n",
    "            print(\"Invalid choice, please choose again.\")\n",
    "\n",
    "# Run the program\n",
    "if __name__ == \"__main__\":\n",
    "    main_menu()"
   ]
  },
  {
   "cell_type": "code",
   "execution_count": null,
   "id": "5033ab25-0115-415a-9776-9fb7df89821c",
   "metadata": {},
   "outputs": [],
   "source": []
  }
 ],
 "metadata": {
  "kernelspec": {
   "display_name": "Python 3 (ipykernel)",
   "language": "python",
   "name": "python3"
  },
  "language_info": {
   "codemirror_mode": {
    "name": "ipython",
    "version": 3
   },
   "file_extension": ".py",
   "mimetype": "text/x-python",
   "name": "python",
   "nbconvert_exporter": "python",
   "pygments_lexer": "ipython3",
   "version": "3.12.4"
  }
 },
 "nbformat": 4,
 "nbformat_minor": 5
}
